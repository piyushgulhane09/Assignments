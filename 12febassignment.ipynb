{
 "cells": [
  {
   "cell_type": "code",
   "execution_count": null,
   "id": "4c9f8edf-cbfb-412f-aa96-9b57635a31a4",
   "metadata": {},
   "outputs": [],
   "source": [
    "\"\"\" Q1. What is an Exception in python? Write the difference between Exceptions and \n",
    "Syntax errors \"\"\"\n",
    "\n",
    "# An exception is an error that occurs during the execution of a program\n",
    "# signal that something has gone wrong and it interrupts the normal flow of the program. \n",
    "# Exceptions can occur for many reasons, such as a user inputting incorrect data, a file not being found, or a network connection being lost.\n",
    "# common types of exceptions  include NameError, TypeError, ValueError, ZeroDivisionError, and FileNotFound. \n",
    "\n",
    " # Exceptions and Syntax errors , syntax errors are detected by the Python interpreter during the parsing phase of the program,\n",
    "     # while exceptions are detected during the execution phase of the program.\n",
    " \n"
   ]
  },
  {
   "cell_type": "code",
   "execution_count": null,
   "id": "b9631040-c5e9-4b26-be97-fc9ddbad8a29",
   "metadata": {},
   "outputs": [],
   "source": [
    "\"\"\" Q2. What happens when an exception is not handled? Explain with an example \"\"\"\n",
    "# Program will terminate and displays error message, with some type of information related to error\n",
    "# as well as location of error cause, futher code will not be execuated.\n",
    "# example\n",
    "def numbers(x, y):\n",
    "    result = x / y\n",
    "    return result\n",
    "\n",
    "a = 10\n",
    "b = 0\n",
    "c = numbers(a, b)\n",
    "print(c)\n"
   ]
  },
  {
   "cell_type": "code",
   "execution_count": 1,
   "id": "c3a70675-f9f7-4c2f-baaa-9cbb8adb15a3",
   "metadata": {},
   "outputs": [
    {
     "name": "stdout",
     "output_type": "stream",
     "text": [
      "Error division by zero\n"
     ]
    }
   ],
   "source": [
    "\"\"\" Q3. Which Python statements are used to catch and handle exceptions? Explain withan example \"\"\"\n",
    "# The try-except statement is a control flow statement that allows you to catch and handle exceptions that may occur during the execution of your program.\n",
    "try:\n",
    "    \n",
    "    def numbers(x, y):\n",
    "        result = x / y\n",
    "        return result\n",
    "\n",
    "    a = 10\n",
    "    b = 0\n",
    "    c = numbers(a, b)\n",
    "    print(c)\n",
    "except Exception as e:\n",
    "    print(\"Error\",e)"
   ]
  },
  {
   "cell_type": "code",
   "execution_count": null,
   "id": "1b1c2186-046b-42e1-aadc-a7577131c545",
   "metadata": {},
   "outputs": [],
   "source": [
    "\"\"\" Q4. Explain withan example:\n",
    " try and else\n",
    " finally\n",
    "raise \"\"\"\n",
    "try:\n",
    "    x = int(input(\"Enter a number: \"))\n",
    "    if x < 0:\n",
    "        raise ValueError(\"Number must be non-negative\")\n",
    "except ValueError as error:\n",
    "    print(error)\n",
    "else:\n",
    "    print(\"The square of the number is:\", x ** 2)\n",
    "finally:\n",
    "    print(\"Execution complete\")\n"
   ]
  },
  {
   "cell_type": "code",
   "execution_count": 1,
   "id": "84b05ed5-51cc-4ab2-89e8-36ca5c93a155",
   "metadata": {},
   "outputs": [
    {
     "name": "stdout",
     "output_type": "stream",
     "text": [
      "-4 is a negative number\n"
     ]
    }
   ],
   "source": [
    "\"\"\"Q5. What are Custom Exceptions in python? Why do we need Custom Exceptions? Explain with\n",
    "an example\"\"\"\n",
    "# custom exceptions are user-defined exceptions that can be used to handle specific error conditions in code.\n",
    "# These exceptions are created by inheriting from the built-in Exception class or any of its subclasses, \n",
    "# and can be raised using the raise keyword.\n",
    "class NegativeNumberError(Exception):\n",
    "    \"\"\"Raised when a negative number is provided\"\"\"\n",
    "\n",
    "    def __init__(self, value):\n",
    "        self.value = value\n",
    "\n",
    "    def __str__(self):\n",
    "        return f\"{self.value} is a negative number\"\n",
    "\n",
    "\n",
    "def square_root(number):\n",
    "    if number < 0:\n",
    "        raise NegativeNumberError(number)\n",
    "    return math.sqrt(number)\n",
    "\n",
    "try:\n",
    "    result = square_root(-3)\n",
    "except NegativeNumberError as e:\n",
    "    print(e)\n",
    "else:\n",
    "    print(result)\n"
   ]
  },
  {
   "cell_type": "code",
   "execution_count": null,
   "id": "1d33efb8-4b8a-40bb-89b1-9749c4c9c071",
   "metadata": {},
   "outputs": [],
   "source": [
    "\"\"\" Q6. Create custom exception class. Use this class to handle an exception. \"\"\"\n",
    "class NegativeNumberError(Exception):\n",
    "    \"\"\"Raised when a negative number is provided\"\"\"\n",
    "\n",
    "    def __init__(self, value):\n",
    "        self.value = value\n",
    "\n",
    "    def __str__(self):\n",
    "        return f\"{self.value} is a negative number\"\n",
    "\n",
    "\n",
    "def square_root(number):\n",
    "    if number < 0:\n",
    "        raise NegativeNumberError(number)\n",
    "    return math.sqrt(number)\n",
    "\n",
    "try:\n",
    "    result = square_root(-3)\n",
    "except NegativeNumberError as e:\n",
    "    print(e)\n",
    "else:\n",
    "    print(result)"
   ]
  }
 ],
 "metadata": {
  "kernelspec": {
   "display_name": "Python 3 (ipykernel)",
   "language": "python",
   "name": "python3"
  },
  "language_info": {
   "codemirror_mode": {
    "name": "ipython",
    "version": 3
   },
   "file_extension": ".py",
   "mimetype": "text/x-python",
   "name": "python",
   "nbconvert_exporter": "python",
   "pygments_lexer": "ipython3",
   "version": "3.10.8"
  }
 },
 "nbformat": 4,
 "nbformat_minor": 5
}
