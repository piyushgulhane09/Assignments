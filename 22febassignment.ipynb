{
 "cells": [
  {
   "cell_type": "code",
   "execution_count": null,
   "id": "06cc60cf-87d8-4664-8d0d-993b8205be83",
   "metadata": {},
   "outputs": [],
   "source": [
    "data = [4,8,15,16,23,42]\n",
    "series = pd.Series(data)\n",
    "series"
   ]
  },
  {
   "cell_type": "code",
   "execution_count": null,
   "id": "ac9d6642-052e-4db3-8323-e0b49f8043a9",
   "metadata": {},
   "outputs": [],
   "source": [
    "data = [2,3,4,5,2,6,7,8,4,5]\n",
    "series = pd.Series(data)\n",
    "series"
   ]
  },
  {
   "cell_type": "code",
   "execution_count": null,
   "id": "3bbf2d2e-dfd0-4550-bde4-4acff6c8b69f",
   "metadata": {},
   "outputs": [],
   "source": [
    "data = {\n",
    "        \"Name\" : ['Alice','Bob','Claire'],\n",
    "        \"Age\" :  [25,30,27],\n",
    "        \"Gender\" : ['Female','Male','Female']\n",
    "}\n",
    "dataframe = pd.DataFrame(data)\n",
    "dataframe\n"
   ]
  },
  {
   "cell_type": "code",
   "execution_count": null,
   "id": "acbdd863-8d44-4013-9101-9ee323bb88e1",
   "metadata": {},
   "outputs": [],
   "source": [
    "\n",
    "DataFrame is a two-dimensional labeled data structure that is widely used for data manipulation and analysis. \n",
    "It is essentially a table-like data structure that consists of rows and columns.\n",
    "It is composed of rows and columns, where each row represents a unique observation or data point, and each column represents a different variable or attribute of the data.\n",
    "It can contain data of various types, including numerical, categorical, and text data.\n",
    "It can be easily manipulated using built-in methods and functions, such as filtering, sorting, grouping, and aggregating data.\n",
    "\n",
    "Dimensionality: A Series is a one-dimensional data structure, whereas a DataFrame is a two-dimensional data structure.\n",
    "\n",
    "Labeling: Each element in a Series has a unique label, which is used to access and manipulate the data. In a DataFrame, each column has a unique label, and each row has a unique index label.\n",
    "\n",
    "Homogeneity: A Series can hold data of any type, but all the elements in a single Series must be of the same data type. In a DataFrame, each column can hold data of a different type, and it is possible to have columns with different data types in the same DataFrame."
   ]
  },
  {
   "cell_type": "code",
   "execution_count": null,
   "id": "c66db028-be9c-42d7-accb-63b1500e8500",
   "metadata": {},
   "outputs": [],
   "source": [
    "import pandas as pd\n",
    "df = pd.read_csv('data.csv')\n",
    "df.head(10) # display the first 10 rows of the DataFrame\n",
    "\n",
    "import pandas as pd\n",
    "df = pd.read_csv('data.csv')\n",
    "df.tail(10) # display the last 10 rows of the DataFrame\n",
    "\n",
    "import pandas as pd\n",
    "df = pd.read_csv('data.csv')\n",
    "df.info() # display information about the DataFrame\n",
    "\n",
    "import pandas as pd\n",
    "df = pd.read_csv('data.csv')\n",
    "df.describe() # display statistical information about the DataFrame\n"
   ]
  },
  {
   "cell_type": "code",
   "execution_count": null,
   "id": "d2a99d67-3d6d-4066-b1fd-8fa5cb6ec29d",
   "metadata": {},
   "outputs": [],
   "source": [
    "Both Series and DataFrame are mutable in nature, whereas Panel has been deprecated and is not recommended to use.\n",
    "\n",
    "In a Series, you can modify values by assigning new values to specific indices.\n",
    "\n",
    "In a DataFrame, you can add, remove, or modify columns or rows using various methods, such as drop(), insert(), and loc[]."
   ]
  },
  {
   "cell_type": "code",
   "execution_count": 10,
   "id": "1913925d-adc3-448b-af5f-99ace23258a7",
   "metadata": {},
   "outputs": [
    {
     "name": "stdout",
     "output_type": "stream",
     "text": [
      "      Name  Age Gender\n",
      "0    Alice   25      F\n",
      "1      Bob   32      M\n",
      "2  Charlie   18      M\n",
      "3    David   47      M\n",
      "4    Emily   29      F\n"
     ]
    }
   ],
   "source": [
    "import pandas as pd\n",
    "\n",
    "# create Series for each column\n",
    "names = pd.Series(['Alice', 'Bob', 'Charlie', 'David', 'Emily'])\n",
    "ages = pd.Series([25, 32, 18, 47, 29])\n",
    "genders = pd.Series(['F', 'M', 'M', 'M', 'F'])\n",
    "\n",
    "# create DataFrame using the Series\n",
    "df = pd.DataFrame({'Name': names, 'Age': ages, 'Gender': genders})\n",
    "\n",
    "# display the DataFrame\n",
    "print(df)\n"
   ]
  }
 ],
 "metadata": {
  "kernelspec": {
   "display_name": "Python 3 (ipykernel)",
   "language": "python",
   "name": "python3"
  },
  "language_info": {
   "codemirror_mode": {
    "name": "ipython",
    "version": 3
   },
   "file_extension": ".py",
   "mimetype": "text/x-python",
   "name": "python",
   "nbconvert_exporter": "python",
   "pygments_lexer": "ipython3",
   "version": "3.10.8"
  }
 },
 "nbformat": 4,
 "nbformat_minor": 5
}
