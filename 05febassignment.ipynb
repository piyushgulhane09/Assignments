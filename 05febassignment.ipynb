{
 "cells": [
  {
   "cell_type": "code",
   "execution_count": 6,
   "id": "340f07a4-9b91-4d1a-9878-48cd866b1b92",
   "metadata": {},
   "outputs": [
    {
     "name": "stdout",
     "output_type": "stream",
     "text": [
      "Class is created\n"
     ]
    }
   ],
   "source": [
    "\"\"\" Q1. Explain Class and Object with respect to Object-Oriented Programming. Give a suitable example. \"\"\"\n",
    "# class is an blueprint for creating objects , class is an real world entity ..Creating a new class creates new objects\n",
    "# class is an skeleton for objects , Classes provide a means of bundling data and functionality together.\n",
    "# Object is an instance of a Class.\n",
    "\n",
    "# example\n",
    "class test_class:       #class\n",
    "    def class_func(self):     #class methods\n",
    "        print(\"Class is created\")\n",
    "a = test_class()           #object\n",
    "a.class_func()              "
   ]
  },
  {
   "cell_type": "code",
   "execution_count": null,
   "id": "821e6197-29a6-42d0-852f-ec53d612d79e",
   "metadata": {},
   "outputs": [],
   "source": [
    "\"\"\" Q2. Name the four pillars of OOPs. \"\"\"\n",
    "# [\"Inheritance\", \"Polymorphism\", \"Encapsulation\" ,\"Abstraction\"]"
   ]
  },
  {
   "cell_type": "code",
   "execution_count": 11,
   "id": "f5657e8d-966b-4f70-86c1-b8b4d53e2d3f",
   "metadata": {},
   "outputs": [
    {
     "data": {
      "text/plain": [
       "('01', 'Piyu', '939382028')"
      ]
     },
     "execution_count": 11,
     "metadata": {},
     "output_type": "execute_result"
    }
   ],
   "source": [
    "\"\"\" Q3. Explain why the __init__() function is used. Give a suitable example. \"\"\"\n",
    "# __init__() is like constructor in class , which initialises while objects creations\n",
    "# constructors are used to initialise the state of objects\n",
    "# Like others fun()s, methods __init__() function too has collection of statements,vaibles\n",
    "# which execuates while creation of objects\n",
    "\n",
    "class employee:\n",
    "    def __init__(self,E_id,E_name,E_no):\n",
    "        self.E_id = E_id\n",
    "        self.E_name = E_name\n",
    "        self.E_no = E_no\n",
    "        \n",
    "    def return_employee(self):\n",
    "        return self.E_id,self.E_name,self.E_no\n",
    "\n",
    "E_object_1 = employee(\"01\",\"Piyu\",\"939382028\")\n",
    "# print(E_object_1)\n",
    "E_object_1.return_employee()"
   ]
  },
  {
   "cell_type": "code",
   "execution_count": null,
   "id": "9382b5ae-2fd6-4f5e-b958-55abf8207e98",
   "metadata": {},
   "outputs": [],
   "source": [
    "\"\"\" Q4. Why self is used in OOPs? \"\"\"\n",
    "# Self is keyword in class ,which refers the methods,data to class \n",
    "# Class methods must have an extra first parameter in the method definition.\n",
    "# We do not give a value for this parameter when we call the method\n",
    "# This is similar to this pointer , like in other languages"
   ]
  },
  {
   "cell_type": "code",
   "execution_count": null,
   "id": "e22bb4de-af5a-424b-a6c4-548065331eb9",
   "metadata": {},
   "outputs": [],
   "source": [
    "\"\"\" Q5. What is inheritance? Give an example for each type of inheritance. \"\"\"\n",
    "# Inheritance is a concept in object-oriented programming where a new class can be created by extending an existing class,\n",
    "# inheriting all of its properties and methods.\n",
    "# Inheritance is a process to acquiring the features and behaviors of a class by another class.\n",
    "# The class whose members are inherited is called the base class, \n",
    "# and the class that inherits those members is called the derived class.\n",
    "\n",
    "# There are four types of inheritance:\n",
    "\n",
    "# Single inheritance: A new class is derived from a single base class.\n",
    "# Example: A class \"Car\" can be derived from a base class \"Vehicle\".\n",
    "\n",
    "# Multiple inheritance: A new class is derived from more than one base class.\n",
    "# Example: A class \"FlyingCar\" can be derived from base classes \"Car\" and \"Airplane\".\n",
    "\n",
    "# Hierarchical inheritance: Multiple classes are derived from a single base class.\n",
    "# Example: Classes \"Sedan\" and \"Hatchback\" can be derived from base class \"Car\".\n",
    "\n",
    "# Hybrid inheritance: Combination of two or more types of inheritance.\n",
    "# Example: A class \"SUV\" can inherit properties from classes \"Car\" and \"OffRoadVehicle\"."
   ]
  }
 ],
 "metadata": {
  "kernelspec": {
   "display_name": "Python 3 (ipykernel)",
   "language": "python",
   "name": "python3"
  },
  "language_info": {
   "codemirror_mode": {
    "name": "ipython",
    "version": 3
   },
   "file_extension": ".py",
   "mimetype": "text/x-python",
   "name": "python",
   "nbconvert_exporter": "python",
   "pygments_lexer": "ipython3",
   "version": "3.10.8"
  }
 },
 "nbformat": 4,
 "nbformat_minor": 5
}
