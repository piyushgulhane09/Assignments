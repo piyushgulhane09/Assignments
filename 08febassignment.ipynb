{
 "cells": [
  {
   "cell_type": "code",
   "execution_count": null,
   "id": "00baef8e-abef-47e3-aede-b1134a848c8c",
   "metadata": {},
   "outputs": [],
   "source": [
    "\"\"\" Q1. What is Abstraction in OOps? Explain with an example. \"\"\"\n",
    "# Abstraction in object-oriented programming (OOP) is the process of hiding complex implementation \n",
    "# details while providing a simplified interface for users to interact with the code. \n",
    "# It is an important concept in OOP because it allows developers to build complex systems \n",
    "# without making them difficult to use or understand.\n",
    "\n",
    "# A simple example of abstraction in OOP could be a car\n",
    "# For example, a Car class might have properties such as make, model, and year,\n",
    "# as well as methods such as accelerate, brake, and turn.These properties and methods can be used to encapsulate \n",
    "# the complex details of a car's internal workings, \n",
    "# while providing a simple and intuitive interface for users to interact with the car. \n"
   ]
  },
  {
   "cell_type": "code",
   "execution_count": null,
   "id": "bb1e2e81-0694-4581-bcbc-691165b548ff",
   "metadata": {},
   "outputs": [],
   "source": [
    "\"\"\" Q2. Differentiate between Abstraction and Encapsulation. Explain with an example. \"\"\"\n",
    "# Abstraction is the process of hiding complex implementation details while providing a simplified interface for users to interact with the code. \n",
    "# It is achieved through the use of classes and objects, where the properties and methods of a class are used to encapsulate the complex implementation\n",
    "# details of a system, while providing a simplified interface for users to interact with.\n",
    "\n",
    "# Encapsulation, on the other hand, is the process of hiding the internal details of an object from the outside world,\n",
    "# and only exposing a public interface for users to interact with. \n",
    "# It is achieved by using access modifiers such as public, private, \n",
    "# and protected to control access to the properties and methods of an object.\n",
    "\n",
    "# for example\n",
    "\n",
    "# In the bank account class, Abstraction can be used to hide the implementation details of how interest is calculated,\n",
    "# how transactions are processed, and how the account balance is updated.\n",
    "# Instead, a simple interface can be provided to users, which allows them to deposit money, withdraw money,\n",
    "# and check their account balance.\n",
    "\n",
    "# Encapsulation can be used to hide the internal details of the bank account object,\n",
    "# such as the account number, account holder name, and balance, from the outside world. \n"
   ]
  },
  {
   "cell_type": "code",
   "execution_count": null,
   "id": "62ea6006-ac9d-4b79-9110-a668cd0503d3",
   "metadata": {},
   "outputs": [],
   "source": [
    "\"\"\" Q3. What is abc module in python? Why is it used?  \"\"\"\n",
    "# abc stands for \"Abstract Base Classes\"\n",
    "# The abc module is used to implement a technique called \"interface checking\" in Python.\n",
    "# This means that if a class inherits from an abstract base class, \n",
    "# it must provide an implementation for all of the abstract methods defined in the base class, \n",
    "# otherwise it will raise an error.\n",
    "\n",
    "# To define abstract classes: Abstract classes are used to define a set of methods that must be implemented by any class that inherits from them.\n",
    "# Abstract classes are not meant to be instantiated directly, but they serve as a base for other classes to inherit from.\n",
    "\n",
    "# To enforce interface checking: By using the abc module to define abstract classes,\n",
    "# Python can enforce interface checking at runtime. \n",
    "# This means that if a class does not provide an implementation for all of the abstract methods defined in an abstract base class,\n",
    "# it will raise an error.\n",
    "\n",
    "# To provide a way to test for compatibility: The abc module provides a way to test whether an object is an instance of a given abstract class. \n",
    "# This can be useful for testing compatibility between objects and functions."
   ]
  },
  {
   "cell_type": "code",
   "execution_count": null,
   "id": "855359c7-bd1e-415d-a066-2c173f59804b",
   "metadata": {},
   "outputs": [],
   "source": [
    "\"\"\" Q4. How can we achieve data abstraction? \"\"\" \n",
    "# In object-oriented programming, data abstraction is achieved by defining abstract classes that provide a high-level interface for working with data, while hiding the implementation details from the user. \n",
    "# This allows the user to work with data at a high level of abstraction, without needing to know the details of how the data is stored or manipulated.\n"
   ]
  },
  {
   "cell_type": "code",
   "execution_count": null,
   "id": "8c7f43bf-1a40-45c3-b103-547093993827",
   "metadata": {},
   "outputs": [],
   "source": [
    "\"\"\" Q5. Can we create an instance of an abstract class? Explain your answer. \"\"\"\n",
    "# No, we cannot create an instance of an abstract class.\n",
    "# An abstract class is a class that has been declared with the \"abstract\" keyword in its definition, \n",
    "# and it may contain one or more abstract methods that do not have an implementation.\n",
    "# An abstract method is a method that has been declared but not defined, meaning it does not have any code inside it.\n",
    "# The purpose of an abstract class is to provide a blueprint for its concrete subclasses,\n",
    "# which will provide the implementation for the abstract methods. Since an abstract \n",
    "# class is not fully defined, it cannot be instantiated, and attempting to do so will result in a compile-time error.\n",
    "# In order to use an abstract class, we must create a concrete subclass that extends\n",
    "# the abstract class and provides implementations for all of its abstract methods. \n",
    "# Only the concrete subclass can be instantiated and used to create objects."
   ]
  }
 ],
 "metadata": {
  "kernelspec": {
   "display_name": "Python 3 (ipykernel)",
   "language": "python",
   "name": "python3"
  },
  "language_info": {
   "codemirror_mode": {
    "name": "ipython",
    "version": 3
   },
   "file_extension": ".py",
   "mimetype": "text/x-python",
   "name": "python",
   "nbconvert_exporter": "python",
   "pygments_lexer": "ipython3",
   "version": "3.10.8"
  }
 },
 "nbformat": 4,
 "nbformat_minor": 5
}
