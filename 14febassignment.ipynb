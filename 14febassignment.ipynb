{
 "cells": [
  {
   "cell_type": "code",
   "execution_count": null,
   "id": "3b084f24-ff58-437a-8dd1-d2505361aa03",
   "metadata": {},
   "outputs": [],
   "source": [
    "\"\"\" What is multithreading in python? Why is it used? Name the module used to handle threads in python \"\"\"\n",
    "# Multithreading in Python refers to the ability of a program to have multiple threads of execution running concurrently within a single process.\n",
    "# This allows for the execution of multiple parts of the program at the same time, which can improve the program's performance and responsiveness.\n",
    " # built-in threading module is used to handle threads."
   ]
  },
  {
   "cell_type": "code",
   "execution_count": null,
   "id": "d804b6f8-597a-47b6-a2d3-02e3925f677e",
   "metadata": {},
   "outputs": [],
   "source": [
    "\"\"\" Why threading module used? Write the use of the following functions. \"\"\"\n",
    "# The threading module is used in Python to create and manage threads.\n",
    "# Threads allow for concurrent execution of multiple parts of a program,\n",
    "# which can improve the program's performance and responsiveness.\n",
    "     # The threading module provides a high-level interface to work with threads..\n",
    "    \n",
    "# activeCount()\n",
    "     # used to get the current number of active threads in the current thread object.\n",
    "# currenThread()\n",
    "    # that returns a reference to the current thread object. This can be useful when you need to know which thread is currently executing a piece of code.\n",
    "# enumerate()\n",
    "    # allows you to loop over an iterable object while keeping track of the current index position.It returns an iterator that produces pairs of (index, value) for each element in the iterable."
   ]
  },
  {
   "cell_type": "code",
   "execution_count": null,
   "id": "cf5a9b9d-1509-4160-9d45-b24cfdfff506",
   "metadata": {},
   "outputs": [],
   "source": [
    "\"\"\" 3. Explain the following functions\n",
    "run()\n",
    "start()\n",
    "join()\n",
    "isAlive() \"\"\"\n",
    "# Functions provided in threading module for managing threads\n",
    "\n",
    "# run()\n",
    "    # This method is called by the start() method to actually run the target function in a separate thread.\n",
    "# start()\n",
    "     # This method starts a new thread and begins executing the target function in that thread. \n",
    "# join()\n",
    "     # This method blocks the calling thread until the thread that called it completes execution. In other words, if you call join() on a thread, \n",
    "            # your program will wait at that point until the thread finishes before proceeding to the next line of code.\n",
    "# isAlive()\n",
    "     # This method returns True if the thread is still running, or False if it has finished executing."
   ]
  },
  {
   "cell_type": "code",
   "execution_count": null,
   "id": "8bd3f8b2-d643-44fb-b93e-d4ef02e56c6c",
   "metadata": {},
   "outputs": [],
   "source": [
    "\"\"\" Q4. rite a python program to create two threads. Thread one must print the list of squares and thread\n",
    "two must print the list of cubes \"\"\"\n",
    "import threading\n",
    "\n",
    "def print_squares():\n",
    "    for i in range(1, 11):\n",
    "        print(f\"{i} squared is {i**2}\")\n",
    "\n",
    "def print_cubes():\n",
    "    for i in range(1, 11):\n",
    "        print(f\"{i} cubed is {i**3}\")\n",
    "\n",
    "# Create two threads\n",
    "t1 = threading.Thread(target=print_squares)\n",
    "t2 = threading.Thread(target=print_cubes)\n",
    "\n",
    "# Start the threads\n",
    "t1.start()\n",
    "t2.start()\n",
    "\n",
    "# Wait for the threads to finish\n",
    "t1.join()\n",
    "t2.join()\n",
    "\n",
    "print(\"Done!\")\n"
   ]
  },
  {
   "cell_type": "code",
   "execution_count": null,
   "id": "3d580237-c5a2-4c8c-b813-b10f27530ca8",
   "metadata": {},
   "outputs": [],
   "source": [
    "\"\"\" State advantages and disadvantages of multithreading \"\"\"\n",
    "# Advantages of multithreading\n",
    "    # Improved performance:\n",
    "    # Responsiveness\n",
    "    # Resource sharing\n",
    "    # Better resource utilization\n",
    "    \n",
    "# Disadvantages of multithreading\n",
    "    # Complexity\n",
    "    # Synchronization overhead\n",
    "    # Debugging and testing\n",
    "    # Risk of data corruption"
   ]
  },
  {
   "cell_type": "code",
   "execution_count": null,
   "id": "c4bd6099-cd4a-4ec9-ae43-9b002e137c36",
   "metadata": {},
   "outputs": [],
   "source": [
    "\"\"\" Explain deadlocks and race conditions. \"\"\"\n",
    "# A deadlock occurs when two or more processes are blocked, waiting for each other to release a resource or a lock.\n",
    "# In other words, each process is holding a resource that the other process needs to continue, \n",
    "# and neither process can release its resource until it receives the resource it is waiting for.\n",
    "\n",
    "# A race condition occurs when two or more processes or threads access a shared resource in an unpredictable order or\n",
    "#     manner, leading to unexpected results or behavior."
   ]
  }
 ],
 "metadata": {
  "kernelspec": {
   "display_name": "Python 3 (ipykernel)",
   "language": "python",
   "name": "python3"
  },
  "language_info": {
   "codemirror_mode": {
    "name": "ipython",
    "version": 3
   },
   "file_extension": ".py",
   "mimetype": "text/x-python",
   "name": "python",
   "nbconvert_exporter": "python",
   "pygments_lexer": "ipython3",
   "version": "3.10.8"
  }
 },
 "nbformat": 4,
 "nbformat_minor": 5
}
