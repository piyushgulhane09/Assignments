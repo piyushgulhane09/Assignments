{
 "cells": [
  {
   "cell_type": "code",
   "execution_count": 31,
   "id": "6593c225-5fff-4f6c-a7f3-c24ea865d229",
   "metadata": {},
   "outputs": [
    {
     "data": {
      "text/plain": [
       "('Splender', 120, 80)"
      ]
     },
     "execution_count": 31,
     "metadata": {},
     "output_type": "execute_result"
    }
   ],
   "source": [
    "\"\"\" Q1, Create a vehicle class with an init method having instance variables as name_of_vehicle, max_speed\n",
    "and average_of_vehicle. \"\"\"\n",
    " \n",
    "    \n",
    "class vehicle:\n",
    "    def __init__(self,name,speed,avg):\n",
    "        self.name_of_vehicle = name\n",
    "        self.max_speed = speed\n",
    "        self.average_of_vehicle = avg\n",
    "        \n",
    "    def show(self):\n",
    "        return self.name_of_vehicle, self.max_speed ,self.average_of_vehicle \n",
    "    \n",
    "obj_of_parent = vehicle(\"Splender\",120,80)\n",
    "obj.show()\n"
   ]
  },
  {
   "cell_type": "code",
   "execution_count": 32,
   "id": "6c4792f3-c1ef-4845-bd69-be37b4b32ef5",
   "metadata": {},
   "outputs": [
    {
     "data": {
      "text/plain": [
       "'TOYOTA is car with8 capacity,with 300 speed on 12 avg'"
      ]
     },
     "execution_count": 32,
     "metadata": {},
     "output_type": "execute_result"
    }
   ],
   "source": [
    "\"\"\". Q2. Create a child class car from the vehicle class created in Que 1, which will inherit the vehicle class.\n",
    "Create a method named seating_capacity which takes capacity as an argument and returns the name of\n",
    "the vehicle and its seating capacity \"\"\"\n",
    "\n",
    "class car(vehicle):\n",
    "\n",
    "    def seating_capacity(self, capacity):\n",
    "        self.capacity_of_car = capacity\n",
    "        return f\"{self.name_of_vehicle} is car with{self.capacity_of_car} capacity,with {self.max_speed} speed on {self.average_of_vehicle} avg\"\n",
    "    \n",
    "obj_of_child = car(\"TOYOTA\",300,12)\n",
    "obj_of_child.seating_capacity(8)\n"
   ]
  },
  {
   "cell_type": "code",
   "execution_count": 2,
   "id": "b10992f0-5fd1-4118-b27f-47d36f3eef48",
   "metadata": {},
   "outputs": [
    {
     "name": "stdout",
     "output_type": "stream",
     "text": [
      "Parent 1 's method 1\n",
      "Parent 2 's method 2\n",
      "Child's method \n"
     ]
    }
   ],
   "source": [
    "\"\"\" Q3. What is multiple inheritance? Write a python code to demonstrate multiple inheritance. \"\"\"\n",
    "# a feature of object-oriented programming in which a class can inherit attributes and methods from more than one parent class.\n",
    "# a child class can inherit from two or more parent classes, \n",
    "# and can thus have access to the attributes and methods of all of those parent classes. \n",
    "# This can be useful when designing complex software systems, as it allows for more flexible and modular code.\n",
    "\n",
    "# For example, imagine you are designing a class for a student who can take multiple courses.\n",
    "# You could define a Student class and a Course class, and use multiple inheritance to create a StudentCourse class that inherits from both of these parent classes. \n",
    "# The StudentCourse class would then have access to the attributes and methods of both the Student and Course classes,\n",
    "# and could implement functionality specific to a student taking a particular course.\n",
    "\n",
    "\n",
    "class parent_1 :\n",
    "    def method_1(self):\n",
    "        print(\"Parent 1 's method 1\")\n",
    "class parent_2 :\n",
    "    def method_2(self):\n",
    "        print(\"Parent 2 's method 2\")\n",
    "class child(parent_1,parent_2):\n",
    "    def method_child(self):\n",
    "        print(\"Child's method \")\n",
    "\n",
    "child_obj = child()\n",
    "child_obj.method_1()\n",
    "child_obj.method_2()\n",
    "child_obj.method_child()"
   ]
  },
  {
   "cell_type": "code",
   "execution_count": 13,
   "id": "d20d4e07-c982-413d-8586-3b358dffc23b",
   "metadata": {},
   "outputs": [],
   "source": [
    "\"\"\" Q4. What are getter and setter in python? Create a class and create a getter and a setter method in this\n",
    "class. \"\"\"\n",
    "# getters and setters are a way to control access to an object's attributes or properties. \n",
    "# They are methods that get and set the values of an object's private attributes, respectively.\n",
    "# A getter method returns the value of a private attribute, while a setter method sets the value of a private attribute.\n",
    "class banks :\n",
    "    \n",
    "    def __init__(self , acc_name):\n",
    "        \n",
    "        self.__acc_name = acc_name\n",
    "        \n",
    "    @property\n",
    "    def bank_acc_access(self):\n",
    "        return self.__acc_name\n",
    "    \n",
    "    @bank_acc_access.setter\n",
    "    def acc_name_set(self,acc_name):\n",
    "        self.__acc_name = acc_name\n",
    "    \n",
    "    @bank_acc_access.deleter\n",
    "    def acc_name_deleter(self) : \n",
    "        del self.__acc_name\n",
    "    \n",
    "obj.bank_acc_access\n",
    "obj.acc_name_set = \"GUlhane\"\n",
    "del obj.acc_name_deleter"
   ]
  },
  {
   "cell_type": "code",
   "execution_count": 14,
   "id": "6c6e64c5-df6f-4a23-9546-f814a053466a",
   "metadata": {},
   "outputs": [
    {
     "name": "stdout",
     "output_type": "stream",
     "text": [
      "The animal makes a sound.\n",
      "The dog barks.\n"
     ]
    }
   ],
   "source": [
    "\"\"\"Q5.What is method overriding in python? Write a python code to demonstrate method overriding.\"\"\"\n",
    "# Overriding is a concept in object-oriented programming where a subclass provides \n",
    "# its own implementation of a method that is already defined in its superclass\n",
    "# When a subclass overrides a method, it replaces the implementation of the same \n",
    "# method inherited from its superclass with its own implementation.\n",
    "\n",
    "class Animal:\n",
    "    def make_sound(self):\n",
    "        print(\"The animal makes a sound.\")\n",
    "\n",
    "class Dog(Animal):\n",
    "    def make_sound(self):\n",
    "        print(\"The dog barks.\")\n",
    "\n",
    "a = Animal()\n",
    "d = Dog()\n",
    "\n",
    "a.make_sound()  \n",
    "d.make_sound()  \n",
    "\n",
    "# we can use (Final) keyword to avoid overriding"
   ]
  }
 ],
 "metadata": {
  "kernelspec": {
   "display_name": "Python 3 (ipykernel)",
   "language": "python",
   "name": "python3"
  },
  "language_info": {
   "codemirror_mode": {
    "name": "ipython",
    "version": 3
   },
   "file_extension": ".py",
   "mimetype": "text/x-python",
   "name": "python",
   "nbconvert_exporter": "python",
   "pygments_lexer": "ipython3",
   "version": "3.10.8"
  }
 },
 "nbformat": 4,
 "nbformat_minor": 5
}
