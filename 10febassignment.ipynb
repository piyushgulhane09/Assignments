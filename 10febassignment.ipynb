{
 "cells": [
  {
   "cell_type": "code",
   "execution_count": null,
   "id": "722f4b21-bf34-4da9-9c24-72881fd7d5a0",
   "metadata": {},
   "outputs": [],
   "source": [
    "\"\"\" Q1. Which function is used to open a file? What are the different modes of opening a file? Explain each mode\n",
    "of file opening. \"\"\"\n",
    "# The open() function is used to open a file \n",
    "# It takes two arguments: the name of the file and the mode in which the file should be opened.\n",
    "# modes r,w,x,a,t,b,+\n",
    "\n",
    "# r = Open a file for reading. (default)\n",
    "# w = Open a file for writing. Creates a new file if it does not exist or truncates the file if it exists.\n",
    "# x = Open a file for exclusive creation. If the file already exists, the operation fails.\n",
    "# a = Open a file for appending at the end of the file without truncating it. Creates a new file if it does not exist.\n",
    "# t = Open in text mode. (default)\n",
    "# b = Open in binary mode.\n",
    "# + = Open a file for updating (reading and writing)"
   ]
  },
  {
   "cell_type": "code",
   "execution_count": null,
   "id": "ca925565-623a-4dfc-adbf-4b3d666c5b2a",
   "metadata": {},
   "outputs": [],
   "source": [
    "\"\"\" Q2. Why close() function is used? Why is it important to close a file? \"\"\"\n",
    "# the close() function is used to close a file object that has been opened using the open() function.\n",
    "# When a file is opened, it remains in the memory and the operating system allocates certain resources to it.\n",
    "# The close() function is important because it releases the resources that were allocated to the file by the operating system.\n",
    "# These resources are finite, so if the file remains open for a long time,\n",
    "# it can result in a memory leak, which can cause problems for the system and other applications."
   ]
  },
  {
   "cell_type": "code",
   "execution_count": 6,
   "id": "5e75902c-ac05-4149-a711-1dde3394f9bc",
   "metadata": {},
   "outputs": [
    {
     "name": "stdout",
     "output_type": "stream",
     "text": [
      "I want to become a Data Scientist\n"
     ]
    }
   ],
   "source": [
    "\"\"\" Q3. Write a python program to create a text file. Write ‘I want to become a Data Scientist’ in that file. Then\n",
    "close the file. Open this file and read the content of the file. \"\"\"\n",
    "f = open(\"test.txt\",'w')\n",
    "f.write(\"I want to become a Data Scientist\")\n",
    "f.close()\n",
    "\n",
    "f = open(\"test.txt\",'r')\n",
    "f.read()\n",
    "f.close()"
   ]
  },
  {
   "cell_type": "code",
   "execution_count": 13,
   "id": "bb1da56e-c57b-4ba6-9239-323e4cb97a14",
   "metadata": {},
   "outputs": [
    {
     "data": {
      "text/plain": [
       "['I want to become a Data Scientist']"
      ]
     },
     "execution_count": 13,
     "metadata": {},
     "output_type": "execute_result"
    }
   ],
   "source": [
    "\"\"\" Q4. Explain the following with python code: read(), readline() and readlines(). \"\"\"\n",
    "f = open(\"test.txt\",'r')\n",
    "f.read()      #This function reads the entire content of the file as a string.\n",
    "f.readline()  #This function reads a single line from the file and returns it as a string.\n",
    "f.readlines()                # This function reads the entire content of the file and returns it as a list of strings, with each string representing a single line.                     "
   ]
  },
  {
   "cell_type": "code",
   "execution_count": null,
   "id": "f67072a5-a49a-4658-9cf3-2af3e472973f",
   "metadata": {},
   "outputs": [],
   "source": [
    "\"\"\" Q5. Explain why with statement is used with open(). What is the advantage of using with statement and\n",
    "open() together? \"\"\"\n",
    "\n",
    "with open('example.txt', 'r') as f:\n",
    "    data = f.read()\n",
    "    \n",
    "# The with statement is used with open() , to ensure that the file is closed properly after it is used. \n",
    "# When a file is opened using the open() function, it needs to be closed explicitly to free up system resources and prevent potential data corruption.\n",
    "# The with statement simplifies this process by automatically closing the file after the block of code is executed."
   ]
  },
  {
   "cell_type": "code",
   "execution_count": null,
   "id": "db9ba946-4ab1-413c-8292-d99306e08a6e",
   "metadata": {},
   "outputs": [],
   "source": [
    "\"\"\"Q6. Explain the write() and writelines() functions. Give a suitable example. \"\"\"\n",
    "# The write() and writelines() functions are used for writing data to a file . \n",
    "with open('example.txt', 'w') as f:\n",
    "    f.write('This is an example of the write function.\\n')\n",
    "# write(): This function is used to write a string to the file.\n",
    "\n",
    "with open('example.txt', 'w') as f:\n",
    "    lines = ['This is the first line.\\n', 'This is the second line.\\n', 'This is the third line.\\n']\n",
    "    f.writelines(lines)\n",
    "\n",
    "# writelines(): This function is used to write a list of strings to the file."
   ]
  }
 ],
 "metadata": {
  "kernelspec": {
   "display_name": "Python 3 (ipykernel)",
   "language": "python",
   "name": "python3"
  },
  "language_info": {
   "codemirror_mode": {
    "name": "ipython",
    "version": 3
   },
   "file_extension": ".py",
   "mimetype": "text/x-python",
   "name": "python",
   "nbconvert_exporter": "python",
   "pygments_lexer": "ipython3",
   "version": "3.10.8"
  }
 },
 "nbformat": 4,
 "nbformat_minor": 5
}
