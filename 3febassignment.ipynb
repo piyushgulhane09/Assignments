{
 "cells": [
  {
   "cell_type": "code",
   "execution_count": 11,
   "id": "153944da-821c-423c-acce-8e7ecce8038b",
   "metadata": {},
   "outputs": [
    {
     "name": "stdout",
     "output_type": "stream",
     "text": [
      "[1, 3, 5, 7, 9, 11, 13, 15, 17, 19, 21, 23, 25]\n"
     ]
    }
   ],
   "source": [
    "\"\"\"Q1. Which keyword is used to create a function? Create a function to return a list of odd numbers in the\n",
    "range of 1 to 25.\"\"\"\n",
    "# def keyword is used to create a function\n",
    "if (__name__==\"__main__\"):\n",
    "    def func1():\n",
    "        l1 = []\n",
    "        for i in range(1,26):\n",
    "            if i % 2 != 0 :\n",
    "                l1.append(i)\n",
    "        return l1\n",
    "    \n",
    "    print(func1())"
   ]
  },
  {
   "cell_type": "code",
   "execution_count": null,
   "id": "9f3a3316-6731-4627-80b8-a0a11dca2aaa",
   "metadata": {},
   "outputs": [],
   "source": []
  },
  {
   "cell_type": "code",
   "execution_count": 17,
   "id": "e2e971d7-d9c4-424c-8085-02e0e07a05b2",
   "metadata": {},
   "outputs": [
    {
     "name": "stdout",
     "output_type": "stream",
     "text": [
      "MY NAME IS Piyu . I M LEARNING python . I M 20 OLD\n",
      "1 Piyu\n",
      "2 rohan\n",
      "3 aksh\n"
     ]
    }
   ],
   "source": [
    "\"\"\" Q2. Why *args and **kwargs is used in some functions? Create a function each for *args and **kwargs\n",
    "to demonstrate their use. \"\"\"\n",
    "if (__name__==\"__main__\"):\n",
    "    def func2(*args):\n",
    "        print(\"MY NAME IS\",args[0],\". I M LEARNING\",args[1],\". I M\",args[2],\"OLD\")\n",
    " \n",
    "    func2(\"Piyu\",\"python\",20)\n",
    "    \n",
    "    def func3(**kwargs):\n",
    "        for key,values in kwargs.items():\n",
    "            print(key,values)\n",
    "    dic = { \"1\":\"Piyu\", \"2\":\"rohan\", \"3\":\"aksh\"}\n",
    "# type(dic)\n",
    "    func3(**dic)\n",
    "    "
   ]
  },
  {
   "cell_type": "code",
   "execution_count": null,
   "id": "fd02a1ba-4e87-47cd-a502-dda641e9ef58",
   "metadata": {},
   "outputs": [],
   "source": []
  },
  {
   "cell_type": "code",
   "execution_count": 12,
   "id": "5a8048dd-36c3-4bb3-a450-afe061f7a05c",
   "metadata": {},
   "outputs": [
    {
     "name": "stdout",
     "output_type": "stream",
     "text": [
      "2\n",
      "4\n",
      "6\n",
      "8\n",
      "10\n"
     ]
    }
   ],
   "source": [
    "\"\"\" Q3. What is an iterator in python? Name the method used to initialise the iterator object and the method\n",
    "used for iteration. Use these methods to print the first five elements of the given list [2, 4, 6, 8, 10, 12, 14,\n",
    "16, 18, 20]. \"\"\"\n",
    "\n",
    "# An Iterator is also an object that helps a user in iterating over another object (that is iterable).\n",
    "# We use the __next__() method for iterating. \n",
    "\n",
    "l1 = [2, 4, 6, 8, 10, 12, 14, 16, 18, 20]\n",
    "l1 = iter(l1)   # method initialise the iterator object.\n",
    "# next(l1)    # method used for iteration.\n",
    "i = 1\n",
    "while i <= 5:\n",
    "    print(next(l1))\n",
    "    i = i + 1"
   ]
  },
  {
   "cell_type": "code",
   "execution_count": null,
   "id": "62434491-aca5-41fd-9d38-e3a2ebd6a41e",
   "metadata": {},
   "outputs": [],
   "source": []
  },
  {
   "cell_type": "code",
   "execution_count": 1,
   "id": "35d11e23-2dd5-48c1-bd5d-f4b22f7df4ba",
   "metadata": {
    "tags": []
   },
   "outputs": [
    {
     "name": "stdout",
     "output_type": "stream",
     "text": [
      "4\n"
     ]
    }
   ],
   "source": [
    "\"\"\" Q4. What is a generator function in python? Why yield keyword is used? Give an example of a generator\n",
    "function.\"\"\"\n",
    "# Generator is basically a function , where yield keyword is used rather than return which return values at each \n",
    "# and every iterations of loop, rather than storing it for completion of loop unlike return keyword.\n",
    "# It optimises the memory\n",
    "#Yield keyword sends a value back to the caller.\n",
    "def Generator(n):\n",
    "    yield n\n",
    "for value in Generator(4):\n",
    "    print(value)"
   ]
  },
  {
   "cell_type": "code",
   "execution_count": null,
   "id": "f1fdd3bc-947e-47ee-8cef-cb5e921c7660",
   "metadata": {},
   "outputs": [],
   "source": [
    "    \"\"\" Q5. Create a generator function for prime numbers less than 1000. Use the next() method to print the\n",
    "    first 20 prime numbers. \"\"\"\n",
    "def prime():\n",
    "    primes = []\n",
    "    for num in range(2,1000):\n",
    "        for i in range(2,num):\n",
    "            if (num % i) == 0:\n",
    "                break\n",
    "        else:\n",
    "            primes.append(num)\n",
    "            yield num\n",
    "gen = prime()\n",
    "for i in range(20):\n",
    "    print(next(gen))"
   ]
  },
  {
   "cell_type": "code",
   "execution_count": null,
   "id": "cc879dee-6d56-4a05-b2a0-c8eac014f3a2",
   "metadata": {},
   "outputs": [],
   "source": []
  },
  {
   "cell_type": "code",
   "execution_count": 27,
   "id": "6fb0bc29-45e4-4b8f-84de-91ce0fe87461",
   "metadata": {},
   "outputs": [
    {
     "name": "stdin",
     "output_type": "stream",
     "text": [
      "Enter N :  10\n"
     ]
    },
    {
     "name": "stdout",
     "output_type": "stream",
     "text": [
      "0\n",
      "1\n",
      "1\n",
      "2\n",
      "3\n",
      "5\n",
      "8\n",
      "13\n",
      "21\n",
      "34\n"
     ]
    }
   ],
   "source": [
    "\"\"\" Q6. Write a python program to print the first 10 Fibonacci numbers using a while loop. \"\"\"\n",
    "if(__name__==\"__main__\"):\n",
    "   \n",
    "    def fibo(num):\n",
    "        a = 0\n",
    "        b = 1\n",
    "        count = 0\n",
    "        while count < n :\n",
    "            print(a)\n",
    "            temp = a + b\n",
    "            a = b\n",
    "            b = temp\n",
    "            count += 1\n",
    "    fibo(int(input(\"Enter N : \")))\n",
    "   \n",
    "        "
   ]
  },
  {
   "cell_type": "code",
   "execution_count": 4,
   "id": "667ef1be-8907-4e80-a315-afaedbb37a51",
   "metadata": {},
   "outputs": [
    {
     "data": {
      "text/plain": [
       "2"
      ]
     },
     "execution_count": 4,
     "metadata": {},
     "output_type": "execute_result"
    }
   ],
   "source": []
  },
  {
   "cell_type": "code",
   "execution_count": 19,
   "id": "95366fa1-fb10-4168-9edd-1b8bd8781a69",
   "metadata": {},
   "outputs": [
    {
     "data": {
      "text/plain": [
       "['p', 'w', 's', 'k', 'i', 'l', 'l', 's']"
      ]
     },
     "execution_count": 19,
     "metadata": {},
     "output_type": "execute_result"
    }
   ],
   "source": [
    "\"\"\" Q7. Write a List Comprehension to iterate through the given string: ‘pwskills’.\n",
    "Expected output: ['p', 'w', 's', 'k', 'i', 'l', 'l', 's'] \"\"\"\n",
    "s = \"pwskills\"\n",
    "[i for i in s ]"
   ]
  },
  {
   "cell_type": "code",
   "execution_count": 14,
   "id": "731773d6-041d-4edf-a774-f3e2a51cd03c",
   "metadata": {
    "tags": []
   },
   "outputs": [
    {
     "name": "stdin",
     "output_type": "stream",
     "text": [
      "Enter a number:  1000\n"
     ]
    },
    {
     "name": "stdout",
     "output_type": "stream",
     "text": [
      "1000 is not a palindrome\n"
     ]
    }
   ],
   "source": [
    "\"\"\" Q8. Q8. Write a python program to check whether a given number is Palindrome or not using a while loop.. \"\"\"\n",
    "if (__name__==\"__main__\"):\n",
    "    def is_palindrome(num):\n",
    "        original_num = num\n",
    "        reverse_num = 0\n",
    "\n",
    "        while num > 0:\n",
    "            last_digit = num % 10\n",
    "            reverse_num = (reverse_num * 10) + last_digit\n",
    "            num = num // 10\n",
    "\n",
    "        if original_num == reverse_num:\n",
    "            return True\n",
    "        else:\n",
    "            return False\n",
    "\n",
    "num = int(input(\"Enter a number: \"))\n",
    "\n",
    "if is_palindrome(num):\n",
    "    print(num, \"is a palindrome\")\n",
    "else:\n",
    "    print(num, \"is not a palindrome\")\n"
   ]
  },
  {
   "cell_type": "code",
   "execution_count": null,
   "id": "656e1496-e554-4afb-9e73-18a12914b087",
   "metadata": {},
   "outputs": [],
   "source": []
  },
  {
   "cell_type": "code",
   "execution_count": 11,
   "id": "f9d7d1e5-a7c3-4fcb-bc56-2f4ee24a6030",
   "metadata": {
    "tags": []
   },
   "outputs": [
    {
     "data": {
      "text/plain": [
       "[1,\n",
       " 3,\n",
       " 5,\n",
       " 7,\n",
       " 9,\n",
       " 11,\n",
       " 13,\n",
       " 15,\n",
       " 17,\n",
       " 19,\n",
       " 21,\n",
       " 23,\n",
       " 25,\n",
       " 27,\n",
       " 29,\n",
       " 31,\n",
       " 33,\n",
       " 35,\n",
       " 37,\n",
       " 39,\n",
       " 41,\n",
       " 43,\n",
       " 45,\n",
       " 47,\n",
       " 49,\n",
       " 51,\n",
       " 53,\n",
       " 55,\n",
       " 57,\n",
       " 59,\n",
       " 61,\n",
       " 63,\n",
       " 65,\n",
       " 67,\n",
       " 69,\n",
       " 71,\n",
       " 73,\n",
       " 75,\n",
       " 77,\n",
       " 79,\n",
       " 81,\n",
       " 83,\n",
       " 85,\n",
       " 87,\n",
       " 89,\n",
       " 91,\n",
       " 93,\n",
       " 95,\n",
       " 97,\n",
       " 99]"
      ]
     },
     "execution_count": 11,
     "metadata": {},
     "output_type": "execute_result"
    }
   ],
   "source": [
    "\"\"\" Q9. Write a code to print odd numbers from 1 to 100 using list comprehension. \"\"\"\n",
    "# [i for i in range(0,100) if i % 2 != 0]\n",
    "l1 = [10,3,4,5,3,3]\n",
    "list(filter(lambda x : x%2!=0 ,range(0,100)))"
   ]
  }
 ],
 "metadata": {
  "kernelspec": {
   "display_name": "Python 3 (ipykernel)",
   "language": "python",
   "name": "python3"
  },
  "language_info": {
   "codemirror_mode": {
    "name": "ipython",
    "version": 3
   },
   "file_extension": ".py",
   "mimetype": "text/x-python",
   "name": "python",
   "nbconvert_exporter": "python",
   "pygments_lexer": "ipython3",
   "version": "3.10.8"
  }
 },
 "nbformat": 4,
 "nbformat_minor": 5
}
