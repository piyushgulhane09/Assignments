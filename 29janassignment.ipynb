{
 "cells": [
  {
   "cell_type": "code",
   "execution_count": null,
   "id": "ab742eca-463f-402b-be29-059fb80a12ab",
   "metadata": {},
   "outputs": [],
   "source": [
    "\"\"\"Q1. Who developed python programming language \"\"\"\n",
    "# Guido van Rossum"
   ]
  },
  {
   "cell_type": "code",
   "execution_count": null,
   "id": "9d77031e-10f0-4316-a5e6-d12f7b0f6162",
   "metadata": {},
   "outputs": [],
   "source": [
    "\"\"\"Q2. Which type of programming does python support  \"\"\"\n",
    "# Object Oriented and Structured programming are supported"
   ]
  },
  {
   "cell_type": "code",
   "execution_count": null,
   "id": "78471521-c908-40fa-b86f-6c72f5fe3f94",
   "metadata": {},
   "outputs": [],
   "source": [
    "\"\"\"Q3. is python case sensitive when dealing with identifier \"\"\"\n",
    "# Yes, Python is a case-sensitive language"
   ]
  },
  {
   "cell_type": "code",
   "execution_count": null,
   "id": "3dd8f9c6-4f86-4945-afab-9b33f6f25849",
   "metadata": {},
   "outputs": [],
   "source": [
    "\"\"\"Q4 what is the correct extension of the python file \"\"\"\n",
    "# py or pyi"
   ]
  },
  {
   "cell_type": "code",
   "execution_count": null,
   "id": "fe5f960b-2399-4dde-9c35-a562e8486200",
   "metadata": {},
   "outputs": [],
   "source": [
    "\"\"\" Q5.is python interpreted or compiled \"\"\"\n",
    "# Python is an interpreted language"
   ]
  },
  {
   "cell_type": "code",
   "execution_count": null,
   "id": "4412c9b7-dadf-4be5-9a3d-d95bbf2fa851",
   "metadata": {},
   "outputs": [],
   "source": [
    "\"\"\"Q6.Name a few blocks of code use to define in python language  \"\"\"\n",
    "# Function blocks - defined using the \"def\" keyword, and include a block of code that executes when the function is called.\n",
    "\n",
    "# Loop blocks - such as \"for\" and \"while\" loops, which define a block of code that is executed repeatedly.\n",
    "\n",
    "# Conditional blocks - such as \"if\", \"else\", and \"elif\" statements, which define a block of code that is executed based on certain conditions.\n",
    "\n",
    "# Exception blocks - such as \"try\", \"except\", and \"finally\" statements, which define a block of code that is executed when an exception is raised.\n",
    "\n",
    "# Class blocks - defined using the \"class\" keyword, and include a block of code that defines the properties and methods of a class."
   ]
  },
  {
   "cell_type": "code",
   "execution_count": null,
   "id": "95d419cd-78b7-45a5-b148-3a1b8fa24007",
   "metadata": {},
   "outputs": [],
   "source": [
    "\"\"\" Q7. State a charactor use to single line comment \"\"\"\n",
    "#    # is use for single line comment"
   ]
  },
  {
   "cell_type": "code",
   "execution_count": null,
   "id": "4257ac96-ca01-4d10-911e-602afa0526d6",
   "metadata": {},
   "outputs": [],
   "source": [
    "\"\"\"Q8. fuction use for finding the version of python \"\"\"\n",
    "#  python_version()"
   ]
  },
  {
   "cell_type": "code",
   "execution_count": null,
   "id": "1ef042bc-3fba-491c-8146-9af8a4175661",
   "metadata": {},
   "outputs": [],
   "source": [
    "\"\"\"Q9. python supports the creation of anonymous functions at runtime? \"\"\"\n",
    "#  lambda() is used for anonymous function.  syntax lambda (func:exp)"
   ]
  },
  {
   "cell_type": "code",
   "execution_count": null,
   "id": "09b08063-8461-4734-afa9-1a04bdfacbdb",
   "metadata": {},
   "outputs": [],
   "source": [
    "\"\"\"Q10 What does PIP stands for Python\"\"\"\n",
    "# preferred installer program "
   ]
  },
  {
   "cell_type": "code",
   "execution_count": null,
   "id": "13e09251-b9aa-4d74-8d1f-ff7d6d80a11d",
   "metadata": {},
   "outputs": [],
   "source": [
    "\"\"\"Q11 Build-in functions in python \"\"\"\n",
    "#sum() , bool(), dict(), list(), int(), str() ....\n"
   ]
  },
  {
   "cell_type": "code",
   "execution_count": null,
   "id": "5514b082-b952-4bec-9c20-07a8421cdefc",
   "metadata": {},
   "outputs": [],
   "source": [
    "\"\"\"Q12 what is the maximum length of a python identifier \"\"\"\n",
    "#  79"
   ]
  },
  {
   "cell_type": "code",
   "execution_count": null,
   "id": "e576ac95-1e60-46cb-904e-231f5db28fa0",
   "metadata": {},
   "outputs": [],
   "source": [
    "\"\"\"Q13 What are the benefits of using python  \"\"\"\n",
    "\n",
    "# Python is commonly used for developing websites and software, task automation, data analysis, and data visualization\n",
    " # easy syntax .Almost all of the tasks done in Python requires less coding when the same task is done in other languages.\n",
    "# Python also has standard library support, so you don't have to search for any third-party libraries to get your job done.\n"
   ]
  },
  {
   "cell_type": "code",
   "execution_count": null,
   "id": "38ed9661-641b-454f-9432-4b84219ea9a0",
   "metadata": {},
   "outputs": [],
   "source": [
    "\"\"\"Q14. how is memory managed in python  \"\"\"\n",
    "# Memory in Python is managed by Python private heap space. All Python objects and data structures are located in a private heap.\n",
    "# This private heap is taken care of by Python Interpreter itself, and a programmer doesn't have access to this private heap"
   ]
  },
  {
   "cell_type": "code",
   "execution_count": null,
   "id": "acab7ae6-97ed-418c-b8b9-7bfdb370fc51",
   "metadata": {},
   "outputs": [],
   "source": [
    "\"\"\"Q15. how to install python on windows and set path variable \"\"\"\n",
    "# 1. Right-clicking This PC and going to Properties.\n",
    "\n",
    "# 2. Clicking on the Advanced system settings in the menu on the left.\n",
    "\n",
    "# 3. Clicking on the Environment Variables button o​n the bottom right.\n",
    "\n",
    "# 4. In the System variables section, selecting the Path variable and clicking on Edit. The next screen will show all the directories that are currently a part of the PATH variable.\n",
    "\n",
    "# 5 .Clicking on New and entering Python’s install directory."
   ]
  },
  {
   "cell_type": "code",
   "execution_count": null,
   "id": "84baf19e-b24d-4ce8-bfab-279620f4efa3",
   "metadata": {},
   "outputs": [],
   "source": [
    "\"\"\"Q16. Is intendension required in python \"\"\"\n",
    "# Python is very important. Python uses indentation to indicate a block of code."
   ]
  }
 ],
 "metadata": {
  "kernelspec": {
   "display_name": "Python 3 (ipykernel)",
   "language": "python",
   "name": "python3"
  },
  "language_info": {
   "codemirror_mode": {
    "name": "ipython",
    "version": 3
   },
   "file_extension": ".py",
   "mimetype": "text/x-python",
   "name": "python",
   "nbconvert_exporter": "python",
   "pygments_lexer": "ipython3",
   "version": "3.10.8"
  }
 },
 "nbformat": 4,
 "nbformat_minor": 5
}
