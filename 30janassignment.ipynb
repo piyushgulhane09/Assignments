{
 "cells": [
  {
   "cell_type": "code",
   "execution_count": 3,
   "id": "b621a2a0-eeb6-4cfa-bdbb-7b4107ba1ae2",
   "metadata": {},
   "outputs": [
    {
     "name": "stdin",
     "output_type": "stream",
     "text": [
      "Enter your percentage :  50\n"
     ]
    },
    {
     "name": "stdout",
     "output_type": "stream",
     "text": [
      "Grade D\n"
     ]
    }
   ],
   "source": [
    "\"\"\"Q1. Write a program to accept percentage from user and display the grade according to the following criteria  \"\"\"\n",
    "percentage = int(input(\"Enter your percentage : \"))\n",
    "if percentage > 90 :\n",
    "    print(\"Grade A\")\n",
    "elif percentage > 80 and percentage <= 90:\n",
    "    print(\"Grade B\")\n",
    "elif percentage >=60 and percentage <=80:\n",
    "    print(\"Grade C\")\n",
    "else :\n",
    "    print(\"Grade D\")\n",
    "    "
   ]
  },
  {
   "cell_type": "code",
   "execution_count": 4,
   "id": "686a14f9-1d6b-4bfe-b7de-3617258b5674",
   "metadata": {},
   "outputs": [
    {
     "name": "stdin",
     "output_type": "stream",
     "text": [
      "Enter Price of Bike :  54000\n"
     ]
    },
    {
     "name": "stdout",
     "output_type": "stream",
     "text": [
      "You have to pay 10% tax\n"
     ]
    }
   ],
   "source": [
    "\"\"\"Q2.Write a program to accept the cost price of a bike and display the road tax to be paid according to the following criteria \"\"\"\n",
    "price = int(input(\"Enter Price of Bike : \"))\n",
    "if price > 100000 :\n",
    "    print(\"You have to pay 15% tax\")\n",
    "elif price > 50000 and price <= 100000:\n",
    "    print(\"You have to pay 10% tax\")\n",
    "else : \n",
    "    print(\"You have to pay 5% tax\")"
   ]
  },
  {
   "cell_type": "code",
   "execution_count": 3,
   "id": "d9d63daf-04d0-44cd-b107-f5195567b726",
   "metadata": {},
   "outputs": [
    {
     "name": "stdout",
     "output_type": "stream",
     "text": [
      "['Delhi', 'Agra', 'Jaipur']\n"
     ]
    },
    {
     "name": "stdin",
     "output_type": "stream",
     "text": [
      "Insert any city from given list  Agra\n"
     ]
    },
    {
     "name": "stdout",
     "output_type": "stream",
     "text": [
      "Taj Mahal\n"
     ]
    }
   ],
   "source": [
    "\"\"\"Q3. Accept any city from the user and display monuments of that city \"\"\"\n",
    "l1 = [\"Delhi\",\"Agra\",\"Jaipur\"]\n",
    "print(l1)\n",
    "city = input(\"Insert any city from given list \")\n",
    "\n",
    "if city == \"Delhi\" : \n",
    "    print(\"Red Fort\")\n",
    "elif city == \"Agra\" : \n",
    "    print(\"Taj Mahal\")\n",
    "elif city == \"Jaipur\" : \n",
    "    print(\"Jal Mahal\")\n",
    "else:\n",
    "    print(\"Please enter only given city\")"
   ]
  },
  {
   "cell_type": "code",
   "execution_count": 7,
   "id": "f3fa54dc-2bbd-4fd3-9cd5-68d077a88605",
   "metadata": {},
   "outputs": [
    {
     "name": "stdout",
     "output_type": "stream",
     "text": [
      "9\n"
     ]
    }
   ],
   "source": [
    "\"\"\"Q4. how many times a given number can be divided by 3 before it is less than or equal to 10 \"\"\"\n",
    "\n",
    "num = 178458   \n",
    "count = 0\n",
    "while num > 10:\n",
    "    num /= 3\n",
    "    count += 1\n",
    "print(count)"
   ]
  },
  {
   "cell_type": "code",
   "execution_count": 9,
   "id": "d8786c4c-e761-4621-85d3-f14211aa932f",
   "metadata": {},
   "outputs": [
    {
     "name": "stdout",
     "output_type": "stream",
     "text": [
      "0\n",
      "1\n",
      "2\n",
      "3\n",
      "4\n",
      "5\n",
      "6\n",
      "7\n",
      "8\n",
      "9\n",
      "10\n"
     ]
    }
   ],
   "source": [
    "\"\"\"Q5 Why and when to use while loop explain with example\"\"\"\n",
    "# while loop is use when programmer wants to repeats certain information while certain condition is true.\n",
    "count = 0\n",
    "while count <= 10:\n",
    "    print(count)\n",
    "    count += 1\n",
    "     # loop will execute as long as the value of x is less than or equal to 10. "
   ]
  },
  {
   "cell_type": "code",
   "execution_count": 16,
   "id": "ee591e6a-dad2-4d90-b7ce-ff73bc2005f0",
   "metadata": {},
   "outputs": [
    {
     "name": "stdout",
     "output_type": "stream",
     "text": [
      "*\n",
      "**\n",
      "***\n",
      "****\n",
      "*****\n",
      "__________\n",
      "*****\n",
      "*****\n",
      "*****\n",
      "*****\n",
      "*****\n",
      "__________\n",
      "    *\n",
      "   ***\n",
      "  *****\n",
      " *******\n",
      "*********\n",
      " *******\n",
      "  *****\n",
      "   ***\n",
      "    *\n"
     ]
    }
   ],
   "source": [
    "\"\"\"Q6. Use nested while loop  to print 3 different pattern \"\"\"\n",
    "i = 1\n",
    "while i <= 5:\n",
    "    j = 1\n",
    "    while j <= i:\n",
    "        print(\"*\", end=\"\")\n",
    "        j += 1\n",
    "    print()\n",
    "    i += 1\n",
    "    \n",
    "print(\"__________\")\n",
    "i = 1\n",
    "while i <= 5:\n",
    "    j = 1\n",
    "    while j <= 5:\n",
    "        print(\"*\", end=\"\")\n",
    "        j += 1\n",
    "    print()\n",
    "    i += 1\n",
    "print(\"__________\")\n",
    "i = 1\n",
    "while i <= 5:\n",
    "    j = 1\n",
    "    while j <= 5 - i:\n",
    "        print(\" \", end=\"\")\n",
    "        j += 1\n",
    "    j = 1\n",
    "    while j <= 2 * i - 1:\n",
    "        print(\"*\", end=\"\")\n",
    "        j += 1\n",
    "    print()\n",
    "    i += 1\n",
    "\n",
    "i = 4\n",
    "while i >= 1:\n",
    "    j = 1\n",
    "    while j <= 5 - i:\n",
    "        print(\" \", end=\"\")\n",
    "        j += 1\n",
    "    j = 1\n",
    "    while j <= 2 * i - 1:\n",
    "        print(\"*\", end=\"\")\n",
    "        j += 1\n",
    "    print()\n",
    "    i -= 1\n"
   ]
  },
  {
   "cell_type": "code",
   "execution_count": 22,
   "id": "596282e5-2dfc-4104-b368-90d0169acf66",
   "metadata": {},
   "outputs": [
    {
     "name": "stdout",
     "output_type": "stream",
     "text": [
      "10\n",
      "9\n",
      "8\n",
      "7\n",
      "6\n",
      "5\n",
      "4\n",
      "3\n",
      "2\n",
      "1\n"
     ]
    }
   ],
   "source": [
    "\"\"\" Reverse a while loop to display numbers from 10 to 1 \"\"\"\n",
    "i = 10\n",
    "while i >= 1:\n",
    "    print(i)\n",
    "    i -= 1"
   ]
  },
  {
   "cell_type": "code",
   "execution_count": null,
   "id": "96a67176-b4d4-4728-ad3e-4b7a3b54942f",
   "metadata": {},
   "outputs": [],
   "source": []
  }
 ],
 "metadata": {
  "kernelspec": {
   "display_name": "Python 3 (ipykernel)",
   "language": "python",
   "name": "python3"
  },
  "language_info": {
   "codemirror_mode": {
    "name": "ipython",
    "version": 3
   },
   "file_extension": ".py",
   "mimetype": "text/x-python",
   "name": "python",
   "nbconvert_exporter": "python",
   "pygments_lexer": "ipython3",
   "version": "3.10.8"
  }
 },
 "nbformat": 4,
 "nbformat_minor": 5
}
