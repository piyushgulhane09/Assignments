{
 "cells": [
  {
   "cell_type": "code",
   "execution_count": 12,
   "id": "418bfc13-521a-4b22-8455-e62b5a27a18e",
   "metadata": {
    "tags": []
   },
   "outputs": [
    {
     "name": "stdout",
     "output_type": "stream",
     "text": [
      "For output\n",
      "1\n",
      "2\n",
      "3\n",
      "4\n",
      "5\n",
      "6\n",
      "7\n",
      "____________\n",
      "while output\n",
      "1\n",
      "2\n",
      "3\n",
      "4\n",
      "5\n",
      "6\n",
      "7\n"
     ]
    }
   ],
   "source": [
    "\"\"\"Q1. Explain with an example each when to use a for loop and a while loop. \"\"\"\n",
    " \n",
    "if (__name__==\"__main__\"):\n",
    "    #     FOR LOOP is used when the number of iterations is already known.\n",
    "    #     WHILE LOOP is used when the number of iteration is unknown / runs until the condition gets false/true\n",
    "\n",
    "    #     FOR LOOP, Intialization is done just before begining of loop\n",
    "    #     WHILE LOOP, Intialization is posible to do anywhere.\n",
    "\n",
    "    # EXAMPLES \n",
    "\n",
    "    print(\"For output\")  \n",
    "    n = [1, 2, 3, 4, 5, 6, 7]\n",
    "    for i in n:  #condition & iteration & i vairable inialization  is done here  \n",
    "        print(i)\n",
    "    # here for loop knows the  no. of iteration \n",
    "\n",
    "    print(\"____________\")\n",
    "    print(\"while output\")\n",
    "    i = 1           # Inialization\n",
    "    while i <= 7:   # condition  is done here\n",
    "        print(i)    \n",
    "        i += 1      #iteration or updation\n",
    "\n",
    "    # here while 's iteration depends on given condition\n",
    "    "
   ]
  },
  {
   "cell_type": "code",
   "execution_count": null,
   "id": "3bf1d722-5d2e-43ac-8b06-7dcc52d115d7",
   "metadata": {},
   "outputs": [],
   "source": []
  },
  {
   "cell_type": "code",
   "execution_count": 9,
   "id": "517d55e8-7743-4351-a858-ebf79a216f92",
   "metadata": {
    "tags": []
   },
   "outputs": [
    {
     "name": "stdout",
     "output_type": "stream",
     "text": [
      "55\n",
      "3628800\n",
      "55\n",
      "3628800\n"
     ]
    }
   ],
   "source": [
    "\"\"\" Q2. Write a python program to print the sum and product of the first 10 natural numbers using for\n",
    " and while loop. \"\"\"\n",
    "if (__name__==\"__main__\"):\n",
    "    sum_of_num = 0\n",
    "    product_of_num = 1\n",
    "    for i in range(1,11):\n",
    "        sum_of_num = sum_of_num + i\n",
    "        product_of_num = product_of_num * i\n",
    "    print(sum_of_num)\n",
    "    print(product_of_num)\n",
    "\n",
    "    sum_of_num = 0\n",
    "    product_of_num = 1\n",
    "    i = 1\n",
    "    while i <=10:\n",
    "        sum_of_num = sum_of_num + i\n",
    "        product_of_num = product_of_num * i\n",
    "        i = i+1\n",
    "    print(sum_of_num)\n",
    "    print(product_of_num)"
   ]
  },
  {
   "cell_type": "code",
   "execution_count": null,
   "id": "c1fdea50-1cca-4b11-8bc9-5e732bd7e1ef",
   "metadata": {},
   "outputs": [],
   "source": []
  },
  {
   "cell_type": "code",
   "execution_count": 2,
   "id": "ddfb5a1e-92bb-4e77-90ab-cc47140e5b39",
   "metadata": {},
   "outputs": [
    {
     "name": "stdin",
     "output_type": "stream",
     "text": [
      "Enter no. of Units :  50\n"
     ]
    },
    {
     "name": "stdout",
     "output_type": "stream",
     "text": [
      "225.0\n"
     ]
    }
   ],
   "source": [
    "\"\"\"Q3. Create a python program to compute the electricity bill for a household.\n",
    "The per-unit charges in rupees are as follows: For the first 100 units, the user will be charged Rs. 4.5 per\n",
    "unit, for the next 100 units, the user will be charged Rs. 6 per unit, and for the next 100 units, the user will\n",
    "be charged Rs. 10 per unit, After 300 units and above the user will be charged Rs. 20 per unit.\"\"\"\n",
    "\n",
    "if (__name__==\"__main__\"):\n",
    "    def cal_charges(no_of_units):\n",
    "        remaining_no_units = 0\n",
    "        bill_charges = 0\n",
    "        if no_of_units <= 100 :\n",
    "            bill_charges = no_of_units * 4.5 \n",
    "        elif no_of_units >= 100 and no_of_units <= 200 :\n",
    "            temp = (no_of_units - 100) * 6\n",
    "            bill_charges = 100*4.5 + temp\n",
    "        elif no_of_units >=200 and no_of_units <=300 :\n",
    "            temp = (no_of_units - 200) * 10\n",
    "            bill_charges = 100*4.5 + 100*6 + temp\n",
    "        else :\n",
    "            temp = (no_of_units - 300) * 20\n",
    "            bill_charges = 100*4.5 + 100*6 + 100*10 + temp\n",
    "            \n",
    "        return bill_charges\n",
    "# no_of_units = input(\"Enter No. Units : \")\n",
    "# print(cal_charges(no_of_units))\n",
    "print(cal_charges(float(input(\"Enter no. of Units : \"))))\n",
    "\n",
    "        "
   ]
  },
  {
   "cell_type": "code",
   "execution_count": null,
   "id": "b8f46f15-ba7d-4ffa-b930-bc46d1388f75",
   "metadata": {},
   "outputs": [],
   "source": []
  },
  {
   "cell_type": "code",
   "execution_count": 20,
   "id": "4e6b3ead-47fa-42e3-92a1-35bbcba5733e",
   "metadata": {
    "tags": []
   },
   "outputs": [
    {
     "name": "stdout",
     "output_type": "stream",
     "text": [
      "[1, 2, 3, 4, 5, 6, 7, 8, 9, 10, 11, 12, 13, 14, 15, 16, 17, 18, 19, 20, 21, 22, 23, 24, 25, 26, 27, 28, 29, 30, 31, 32, 33, 34, 35, 36, 37, 38, 39, 40, 41, 42, 43, 44, 45, 46, 47, 48, 49, 50, 51, 52, 53, 54, 55, 56, 57, 58, 59, 60, 61, 62, 63, 64, 65, 66, 67, 68, 69, 70, 71, 72, 73, 74, 75, 76, 77, 78, 79, 80, 81, 82, 83, 84, 85, 86, 87, 88, 89, 90, 91, 92, 93, 94, 95, 96, 97, 98, 99, 100]\n",
      "[8, 64, 125, 216, 512, 1000, 1728, 2744, 3375, 4096, 5832, 8000, 10648, 13824, 15625, 17576, 21952, 27000, 32768, 39304, 42875, 46656, 54872, 64000, 74088, 85184, 91125, 97336, 110592, 125000, 140608, 157464, 166375, 175616, 195112, 216000, 238328, 262144, 274625, 287496, 314432, 343000, 373248, 405224, 421875, 438976, 474552, 512000, 551368, 592704, 614125, 636056, 681472, 729000, 778688, 830584, 857375, 884736, 941192, 1000000]\n"
     ]
    }
   ],
   "source": [
    "\"\"\"\n",
    "Q4. Create a list of numbers from 1 to 100. Use for loop and while loop to calculate the cube of each\n",
    "number and if the cube of that number is divisible by 4 or 5 then append that number in a list and print\n",
    "that list.\"\"\"\n",
    "if (__name__==\"__main__\")\n",
    "    list1 = []\n",
    "    list2 = []\n",
    "    for i in range(1,101):\n",
    "        list1.append(i)\n",
    "        cube_of_no = i*i*i\n",
    "        if cube_of_no % 4 == 0 or cube_of_no % 5 == 0:\n",
    "            list2.append(cube_of_no)\n",
    "    print(list1)\n",
    "    print(list2)"
   ]
  },
  {
   "cell_type": "code",
   "execution_count": 33,
   "id": "50f5dd0d-00f8-4d87-b3fb-bab615ba2b8e",
   "metadata": {},
   "outputs": [
    {
     "name": "stdout",
     "output_type": "stream",
     "text": [
      "[1, 2, 3, 4, 5, 6, 7, 8, 9, 10, 11, 12, 13, 14, 15, 16, 17, 18, 19, 20, 21, 22, 23, 24, 25, 26, 27, 28, 29, 30, 31, 32, 33, 34, 35, 36, 37, 38, 39, 40, 41, 42, 43, 44, 45, 46, 47, 48, 49, 50, 51, 52, 53, 54, 55, 56, 57, 58, 59, 60, 61, 62, 63, 64, 65, 66, 67, 68, 69, 70, 71, 72, 73, 74, 75, 76, 77, 78, 79, 80, 81, 82, 83, 84, 85, 86, 87, 88, 89, 90, 91, 92, 93, 94, 95, 96, 97, 98, 99, 100]\n",
      "[8, 64, 125, 216, 512, 1000, 1728, 2744, 3375, 4096, 5832, 8000, 10648, 13824, 15625, 17576, 21952, 27000, 32768, 39304, 42875, 46656, 54872, 64000, 74088, 85184, 91125, 97336, 110592, 125000, 140608, 157464, 166375, 175616, 195112, 216000, 238328, 262144, 274625, 287496, 314432, 343000, 373248, 405224, 421875, 438976, 474552, 512000, 551368, 592704, 614125, 636056, 681472, 729000, 778688, 830584, 857375, 884736, 941192, 1000000]\n"
     ]
    }
   ],
   "source": [
    "if (__name__==\"__main__\")\n",
    "    list1 = []\n",
    "    list2 = []\n",
    "    i = 1\n",
    "    cube_of_no = 0\n",
    "    while i <= 100:\n",
    "        list1.append(i)\n",
    "        cube_of_no = i*i*i\n",
    "        if cube_of_no % 4 == 0 or cube_of_no % 5 == 0:\n",
    "            list2.append(cube_of_no)\n",
    "        i = i + 1\n",
    "    print(list1)\n",
    "    print(list2)"
   ]
  },
  {
   "cell_type": "code",
   "execution_count": null,
   "id": "0f688c2e-a297-417b-bd99-01a8574ef2e4",
   "metadata": {},
   "outputs": [],
   "source": []
  },
  {
   "cell_type": "code",
   "execution_count": 42,
   "id": "1204684f-8260-41c4-8a22-552742057c13",
   "metadata": {},
   "outputs": [
    {
     "name": "stdout",
     "output_type": "stream",
     "text": [
      "12\n"
     ]
    }
   ],
   "source": [
    "\"\"\"Q5. Write a program to filter count vowels in the below-given string.\n",
    "string = \"I want to become a data scientist\"  \"\"\"\n",
    "\n",
    "string = \"I want to become a data scientist\"\n",
    "count = 0\n",
    "for i in string:\n",
    "    if i=='a' or i=='e' or i=='i' or i=='o' or i=='u' or i=='A' or i=='E' or i=='I' or i=='O' or i=='U':\n",
    "        count = count + 1\n",
    "print(count)\n"
   ]
  }
 ],
 "metadata": {
  "kernelspec": {
   "display_name": "Python 3 (ipykernel)",
   "language": "python",
   "name": "python3"
  },
  "language_info": {
   "codemirror_mode": {
    "name": "ipython",
    "version": 3
   },
   "file_extension": ".py",
   "mimetype": "text/x-python",
   "name": "python",
   "nbconvert_exporter": "python",
   "pygments_lexer": "ipython3",
   "version": "3.10.8"
  }
 },
 "nbformat": 4,
 "nbformat_minor": 5
}
