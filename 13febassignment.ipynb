{
 "cells": [
  {
   "cell_type": "code",
   "execution_count": null,
   "id": "d2d839f1-1cc9-4531-85fe-0800193d1587",
   "metadata": {},
   "outputs": [],
   "source": [
    "\"\"\" Q1. Explain why we have to use the Exception class while creating a Custom Exception. \"\"\"\n",
    " # Exception class allows our custom exception to behave consistently with the built-in exceptions in the language.\n",
    " #    This makes it easier for developers to understand and use our custom exception.\n",
    " # Inheriting from this base class ensures that our custom exception is part of this hierarchy and \n",
    " #    can be caught by catch blocks that handle exceptions of the same or broader types.\n",
    "# Inheriting from the Exception class allows us to customize our custom exception by adding properties \n",
    "#     and methods that are specific to our use case.\n",
    "#     For example, we can add a message property to our exception that provides more information\n",
    "#         about the error that occurred.\n"
   ]
  },
  {
   "cell_type": "code",
   "execution_count": null,
   "id": "061e96b3-e1b9-4b8f-bdd7-b513438ff620",
   "metadata": {},
   "outputs": [],
   "source": [
    "\"\"\" Q2. Write a python program to print Python Exception Hierarchy. \"\"\"\n",
    "def print_exception_hierarchy(exception_class, indent=0):\n",
    "    print(' ' * indent + str(exception_class))\n",
    "    for subclass in exception_class.__subclasses__():\n",
    "        print_exception_hierarchy(subclass, indent + 2)\n",
    "\n",
    "print_exception_hierarchy(Exception)\n"
   ]
  },
  {
   "cell_type": "code",
   "execution_count": null,
   "id": "95e6751e-95ef-451b-b3db-1842c76fa364",
   "metadata": {},
   "outputs": [],
   "source": [
    "\"\"\" Q3. What errors are defined in the ArithmeticError class? Explain any two with an example. \"\"\"\n",
    " # Exception class and a parent class to several more specific arithmetic exceptions, \n",
    " #    such as ZeroDivisionError, OverflowError, and FloatingPointError.\n",
    "\n",
    "# ZeroDivisionError\n",
    "x = 10\n",
    "y = 0\n",
    "z = x / y\n",
    "\n",
    "  ZeroDivisionError: division by zero\n",
    "\n",
    "# OverflowError\n",
    " import math\n",
    "     x = math.pow(10, 1000)\n",
    "\n",
    "OverflowError: math range error\n"
   ]
  },
  {
   "cell_type": "code",
   "execution_count": null,
   "id": "b20bb221-06a4-4e23-b451-df8397ade04e",
   "metadata": {},
   "outputs": [],
   "source": [
    "\"\"\" Q4. Why LookupError class is used? Explain with an example KeyError and IndexError. \"\"\"\n",
    " # LookupError base class for exceptions that occur when a lookup or index operation fails.\n",
    " #    It is a parent class to several more specific lookup and index exceptions, such as KeyError, IndexError,\n",
    " #        and NameError.\n",
    "    \n",
    "    # keyerror\n",
    "    my_dict = {'a': 1, 'b': 2, 'c': 3}\n",
    "     value = my_dict['d']\n",
    "    \n",
    "    # IndexError\n",
    "    my_list = [1, 2, 3]\n",
    "     value = my_list[3]\n"
   ]
  },
  {
   "cell_type": "code",
   "execution_count": null,
   "id": "c6ab8ab9-94c7-4f9b-8b8b-87e191c808b8",
   "metadata": {},
   "outputs": [],
   "source": [
    "\"\"\" Q5. Explain ImportError. What is ModuleNotFoundError? \"\"\"\n",
    " # Built-in Python exception that occurs when a module is imported, \n",
    " #    but the import statement cannot find the module or there is an error in the code of the module being imported\n",
    "\n",
    "# The module name is misspelled.\n",
    "# The module is not installed in the system.\n",
    "# The module is located in a directory that is not in the Python path.\n",
    "# The module code has syntax errors.\n",
    "# ModuleNotFoundError is a subclass of ImportError, \n",
    "#     ModuleNotFoundError is raised when the interpreter cannot find the module specified in the import statement,\n",
    "#     and it differs from ImportError in that it specifically states that the module was not found"
   ]
  },
  {
   "cell_type": "code",
   "execution_count": null,
   "id": "3324fa00-e08f-4f1a-be69-a8b751811253",
   "metadata": {},
   "outputs": [],
   "source": [
    "\"\"\" Q6. List down some best practices for exception handling in python.\"\"\"\n",
    "#Mention specific error , rather than catching error just by using except statement.\n",
    "# Use try-except blocks to handle exceptions: You should use try-except blocks to catch and handle exceptions.\n",
    "# Provide meaningfull error messages\n",
    "# Explain what went wrong\n",
    "# catch errors in logging file, don't just it silently\n",
    "# catch errors level wise, low level errors must catch at lower level "
   ]
  }
 ],
 "metadata": {
  "kernelspec": {
   "display_name": "Python 3 (ipykernel)",
   "language": "python",
   "name": "python3"
  },
  "language_info": {
   "codemirror_mode": {
    "name": "ipython",
    "version": 3
   },
   "file_extension": ".py",
   "mimetype": "text/x-python",
   "name": "python",
   "nbconvert_exporter": "python",
   "pygments_lexer": "ipython3",
   "version": "3.10.8"
  }
 },
 "nbformat": 4,
 "nbformat_minor": 5
}
