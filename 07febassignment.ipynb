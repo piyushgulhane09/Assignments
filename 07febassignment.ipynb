{
 "cells": [
  {
   "cell_type": "code",
   "execution_count": 7,
   "id": "2079cd44-3ceb-4d2c-a96d-cfb66ebd7732",
   "metadata": {},
   "outputs": [
    {
     "name": "stdin",
     "output_type": "stream",
     "text": [
      "Password :  pierha\n"
     ]
    },
    {
     "data": {
      "text/plain": [
       "'Invalid Password'"
      ]
     },
     "execution_count": 7,
     "metadata": {},
     "output_type": "execute_result"
    }
   ],
   "source": [
    "\"\"\" Q1. You are writing code for a company. The requirement of the company is that you create a python\n",
    "function that will check whether the password entered by the user is correct or not. The function should\n",
    "take the password as input and return the string “Valid Password” if the entered password follows the\n",
    "below-given password guidelines else it should return “Invalid Password”.\n",
    "\n",
    "Note:   1. The Password should contain at least two uppercase letters and at least two lowercase letters.\n",
    "        2. The Password should contain at least a number and three special characters.\n",
    "        3. The length of the password should be 10 characters long. \"\"\"\n",
    "\n",
    "import re\n",
    "\n",
    "def check_password(password):\n",
    "    \n",
    "    uppercase_regex = r'[A-Z].*[A-Z]'\n",
    "    lowercase_regex = r'[a-z].*[a-z]'\n",
    "    number_regex = r'[0-9]'\n",
    "    special_regex = r'[^a-zA-Z0-9].*[^a-zA-Z0-9].*[^a-zA-Z0-9]'\n",
    "\n",
    "    \n",
    "    if len(password) != 10:\n",
    "        return \"Invalid Password\"\n",
    "\n",
    "    \n",
    "    if not re.match(uppercase_regex, password):\n",
    "        return \"Invalid Password\"\n",
    "    if not re.match(lowercase_regex, password):\n",
    "        return \"Invalid Password\"\n",
    "    if not re.match(number_regex, password):\n",
    "        return \"Invalid Password\"\n",
    "    if not re.match(special_regex, password):\n",
    "        return \"Invalid Password\"\n",
    "\n",
    "    \n",
    "    return \"Valid Password\"\n",
    "\n",
    "password = input(\"Password : \")\n",
    "check_password(password)\n",
    "\n"
   ]
  },
  {
   "cell_type": "code",
   "execution_count": 9,
   "id": "f1e451b3-4799-466d-9b09-62bddad3b387",
   "metadata": {},
   "outputs": [
    {
     "name": "stdout",
     "output_type": "stream",
     "text": [
      "[1, 2, 3, 4, 5, 6]\n",
      "[-1, -2, -3, -4, -5]\n"
     ]
    }
   ],
   "source": [
    "\"\"\" Q2. Solve the below-given questions using at least one of the following:\n",
    "1. Lambda function\n",
    "2. Filter function\n",
    "3. Map function\n",
    "4. List Comprehension\n",
    "\n",
    "a- Check if the string starts with a particular letter.\n",
    "b- Check if the string is numeric.\n",
    "c- Sort a list of tuples having fruit names and their quantity. [(\"mango\",99),(\"orange\",80), (\"grapes\", 1000)]\n",
    "d- Find the squares of numbers from 1 to 10.\n",
    "e- Find the cube root of numbers from 1 to 10.\n",
    "f- Check if a given number is even.\n",
    "g- Filter odd numbers from the given list.\n",
    "[1,2,3,4,5,6,7,8,9,10]\n",
    "h- Sort a list of integers into positive and negative integers lists.\n",
    "[1,2,3,4,5,6,-1,-2,-3,-4,-5,0]  \"\"\"\n",
    "\n",
    "# a\n",
    "string = \"piyush\"\n",
    "char = \"p\"\n",
    "result=lambda char : string.startswith(char)\n",
    "result(string)\n",
    "\n",
    "# b\n",
    "s = \"2344\"\n",
    "check=lambda x : x.isnumeric()\n",
    "check(s)\n",
    "\n",
    "# c\n",
    "l1 = [(\"mango\",99),(\"orange\",80), (\"grapes\", 1000)]\n",
    "sorted(l1,key=lambda x:x[1])\n",
    "\n",
    "# d\n",
    "l1 = [x**2 for x in range(1,10)]\n",
    "l1\n",
    "            # or\n",
    "l1 = [1,2,3,4,5,6,7,8,9,10]\n",
    "list(map(lambda x : x**2,l1))\n",
    "\n",
    "# e\n",
    "num = 216\n",
    "cube_root=lambda x : x**(1/3)\n",
    "cube_root(num)\n",
    "\n",
    "# f\n",
    "num = 4 \n",
    "even_no = lambda x : x%2==0\n",
    "even_no(int(num))\n",
    "\n",
    "# g\n",
    "l1 = [1,2,3,4,5,6,7,8,9,10]\n",
    "list(filter(lambda x : x%2 != 0,l1))\n",
    "\n",
    "# h\n",
    "l1 = [1,2,3,4,5,6,-1,-2,-3,-4,-5,0]\n",
    "l2=list(filter(lambda x : x > 0,l1))\n",
    "l3=list(filter(lambda x : x < 0,l1))\n",
    "print(l2)\n",
    "print(l3)"
   ]
  }
 ],
 "metadata": {
  "kernelspec": {
   "display_name": "Python 3 (ipykernel)",
   "language": "python",
   "name": "python3"
  },
  "language_info": {
   "codemirror_mode": {
    "name": "ipython",
    "version": 3
   },
   "file_extension": ".py",
   "mimetype": "text/x-python",
   "name": "python",
   "nbconvert_exporter": "python",
   "pygments_lexer": "ipython3",
   "version": "3.10.8"
  }
 },
 "nbformat": 4,
 "nbformat_minor": 5
}
